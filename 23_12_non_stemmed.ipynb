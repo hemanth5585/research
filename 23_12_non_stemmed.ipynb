{
  "nbformat": 4,
  "nbformat_minor": 0,
  "metadata": {
    "colab": {
      "provenance": []
    },
    "kernelspec": {
      "name": "python3",
      "display_name": "Python 3"
    },
    "language_info": {
      "name": "python"
    }
  },
  "cells": [
    {
      "cell_type": "code",
      "execution_count": 138,
      "metadata": {
        "id": "zO1Z99AZT9xa"
      },
      "outputs": [],
      "source": [
        "import gensim\n",
        "import pandas as pd\n",
        "from gensim.parsing.preprocessing import remove_stopwords\n",
        "#reference underneath\n",
        "#https://github.com/codebasics/deep-learning-keras-tf-tutorial/blob/master/42_word2vec_gensim/42_word2vec_gensim.ipynb"
      ]
    },
    {
      "cell_type": "code",
      "source": [
        "df = pd.read_excel(\"/content/3_data.xlsx\",index_col=False)"
      ],
      "metadata": {
        "id": "Xa4wi-mUUD8M"
      },
      "execution_count": 139,
      "outputs": []
    },
    {
      "cell_type": "code",
      "source": [
        "x = df.iloc[:,1].tolist()\n",
        "total_words = []\n",
        "u_vocab = []\n",
        "punc = '''!()-[]{};:'\"\\,<>./?@#$%^&*_~'''\n",
        "mat = []\n",
        "for j in x:\n",
        "  for ele in j:\n",
        "    if ele in punc:\n",
        "        j = j.replace(ele, \"\")\n",
        "  temp = \"\"\n",
        "  for i in j:\n",
        "    if i.isupper():\n",
        "      temp=temp+i.lower()\n",
        "    else:\n",
        "      temp=temp+i\n",
        "  temp = remove_stopwords(temp)\n",
        "  j = temp\n",
        "  x = j.split()\n",
        "  mat.append(x)\n",
        "  for temp in x:\n",
        "    u_vocab.append(temp)\n",
        "    total_words.append(temp)\n",
        "print(mat)"
      ],
      "metadata": {
        "colab": {
          "base_uri": "https://localhost:8080/"
        },
        "id": "44I6NXUCUGVA",
        "outputId": "7bbdfeae-43a9-4adc-a575-27a86a56e430"
      },
      "execution_count": 140,
      "outputs": [
        {
          "output_type": "stream",
          "name": "stdout",
          "text": [
            "[['software', 'development', 'process', 'conceiving', 'specifying', 'designing', 'programming', 'documenting', 'testing', 'bug', 'fixing', 'involved', 'creating', 'maintaining', 'applications', 'frameworks', 'software', 'components', 'software', 'development', 'involves', 'writing', 'maintaining', 'source', 'code', 'broader', 'sense', 'includes', 'processes', 'conception', 'desired', 'software', 'final', 'manifestation', 'software', 'typically', 'planned', 'structured', 'process', 'software', 'development', 'includes', 'research', 'new', 'development', 'prototyping', 'modification', 'reuse', 'reengineering', 'maintenance', 'activities', 'result', 'software', 'products'], ['software', 'documentation', 'written', 'text', 'illustration', 'accompanies', 'software', 'embedded', 'source', 'code', 'documentation', 'explains', 'software', 'operates', 'use', 'mean', 'different', 'things', 'people', 'different', 'roles', 'documentation', 'important', 'software', 'engineering', 'types', 'documentation', 'include', 'requirements', '–', 'statements', 'identify', 'attributes', 'capabilities', 'characteristics', 'qualities', 'foundation', 'implemented', 'architecturedesign', '–', 'overview', 'software', 'includes', 'relations', 'environment', 'construction', 'principles', 'design', 'software', 'components', 'technical', '–', 'documentation', 'code', 'algorithms', 'interfaces', 'apis', 'end', 'user', '–', 'manuals', 'enduser', 'administrators', 'support', 'staff', 'marketing', '–', 'market', 'product', 'analysis', 'market', 'demand'], ['software', 'testing', 'act', 'examining', 'artifacts', 'behavior', 'software', 'test', 'validation', 'verification', 'software', 'testing', 'provide', 'objective', 'independent', 'view', 'software', 'allow', 'business', 'appreciate', 'understand', 'risks', 'software', 'implementation', 'test', 'techniques', 'include', 'necessarily', 'limited', 'analyzing', 'product', 'requirements', 'completeness', 'correctness', 'contexts', 'like', 'industry', 'perspective', 'business', 'perspective', 'feasibility', 'viability', 'implementation', 'usability', 'performance', 'security', 'infrastructure', 'considerations', 'reviewing', 'product', 'architecture', 'overall', 'design', 'product', 'working', 'product', 'developers', 'improvement', 'coding', 'techniques', 'design', 'patterns', 'tests', 'written', 'code', 'based', 'techniques', 'like', 'boundary', 'conditions', 'executing', 'program', 'application', 'intent', 'examining', 'behavior', 'reviewing', 'deployment', 'infrastructure', 'associated', 'scripts', 'automation', 'production', 'activities', 'monitoring', 'observability', 'techniquessoftware', 'testing', 'provide', 'objective', 'independent', 'information', 'quality', 'software', 'risk', 'failure', 'users', 'sponsors'], ['software', 'bug', 'error', 'flaw', 'fault', 'design', 'development', 'operation', 'software', 'causes', 'produce', 'incorrect', 'unexpected', 'result', 'behave', 'unintended', 'ways', 'process', 'finding', 'correcting', 'bugs', 'termed', 'debugging', 'uses', 'formal', 'techniques', 'tools', 'pinpoint', 'bugs', '1950s', 'systems', 'designed', 'deter', 'detect', 'autocorrect', 'bugs', 'operations', 'bugs', 'software', 'arise', 'mistakes', 'errors', 'interpreting', 'extracting', 'users', 'requirements', 'planning', 'programs', 'design', 'writing', 'source', 'code', 'interaction', 'humans', 'hardware', 'programs', 'operating', 'systems', 'libraries', 'program', 'bugs', 'described', 'buggy', 'bugs', 'trigger', 'errors', 'ripple', 'effects', 'effects', 'bugs', 'subtle', 'unintended', 'text', 'formatting', 'obvious', 'effects', 'causing', 'program', 'crash', 'freezing', 'causing', 'damage', 'hardware', 'bugs', 'qualify', 'security', 'bugs', 'example', 'enable', 'malicious', 'user', 'bypass', 'access', 'controls', 'order', 'obtain', 'unauthorized', 'privilegessome', 'software', 'bugs', 'linked', 'disasters', 'bugs', 'code', 'controlled', 'therac25', 'radiation', 'therapy', 'machine', 'directly', 'responsible', 'patient', 'deaths', '1980s', '1996', 'european', 'space', 'agencys', 'us1', 'billion', 'prototype', 'ariane', '5', 'rocket', 'destroyed', 'minute', 'launch', 'bug', 'onboard', 'guidance', 'program', '1994', 'raf', 'chinook', 'helicopter', 'crashed', 'killing', '29', 'initially', 'blamed', 'pilot', 'error', 'later', 'thought', 'caused', 'software', 'bug', 'enginecontrol', 'buggy', 'software', 'caused', 'early', '21st', 'century', 'british', 'post', 'office', 'scandal', 'widespread', 'miscarriage', 'justice', 'british', 'legal', 'historyin', '2002', 'study', 'commissioned', 'department', 'commerces', 'national', 'institute', 'standards', 'technology', 'concluded', 'software', 'bugs', 'errors', 'prevalent', 'detrimental', 'cost', 'economy', 'estimated', '59', 'billion', 'annually', '06', 'percent', 'gross', 'domestic', 'product']]\n"
          ]
        }
      ]
    },
    {
      "cell_type": "code",
      "source": [
        "model = gensim.models.Word2Vec(\n",
        "    window = 10, #before 10 characters and after 10 characters\n",
        "    min_count = 1, #no of words in a sentence\n",
        "    workers = 2 #threads\n",
        ")\n",
        "model.build_vocab(mat,progress_per=100)"
      ],
      "metadata": {
        "id": "dArFIffiUQhH"
      },
      "execution_count": 141,
      "outputs": []
    },
    {
      "cell_type": "code",
      "source": [
        "model.epochs"
      ],
      "metadata": {
        "colab": {
          "base_uri": "https://localhost:8080/"
        },
        "id": "AOEVPDMLUTIm",
        "outputId": "dd3214eb-17e1-4e49-fe14-9aca8f308632"
      },
      "execution_count": 142,
      "outputs": [
        {
          "output_type": "execute_result",
          "data": {
            "text/plain": [
              "5"
            ]
          },
          "metadata": {},
          "execution_count": 142
        }
      ]
    },
    {
      "cell_type": "code",
      "source": [
        "model.train(mat,total_examples=model.corpus_count, epochs= model.epochs)"
      ],
      "metadata": {
        "colab": {
          "base_uri": "https://localhost:8080/"
        },
        "id": "JxsdVXGTUU4_",
        "outputId": "a76c8fe4-6579-4e01-ddf3-e417957e9acc"
      },
      "execution_count": 143,
      "outputs": [
        {
          "output_type": "stream",
          "name": "stderr",
          "text": [
            "WARNING:gensim.models.base_any2vec:under 10 jobs per worker: consider setting a smaller `batch_words' for smoother alpha decay\n"
          ]
        },
        {
          "output_type": "execute_result",
          "data": {
            "text/plain": [
              "(1588, 2070)"
            ]
          },
          "metadata": {},
          "execution_count": 143
        }
      ]
    },
    {
      "cell_type": "code",
      "source": [
        "model.wv.most_similar(\"software\")"
      ],
      "metadata": {
        "colab": {
          "base_uri": "https://localhost:8080/"
        },
        "id": "dcaNIdcRfnxB",
        "outputId": "f4331752-3a9f-4377-d057-fadb594dfec0"
      },
      "execution_count": 144,
      "outputs": [
        {
          "output_type": "execute_result",
          "data": {
            "text/plain": [
              "[('pinpoint', 0.2511258125305176),\n",
              " ('qualify', 0.2403876781463623),\n",
              " ('viability', 0.2332494854927063),\n",
              " ('roles', 0.21945619583129883),\n",
              " ('operations', 0.21154893934726715),\n",
              " ('programming', 0.19756267964839935),\n",
              " ('act', 0.19492167234420776),\n",
              " ('1994', 0.19303299486637115),\n",
              " ('modification', 0.1914581060409546),\n",
              " ('coding', 0.18540148437023163)]"
            ]
          },
          "metadata": {},
          "execution_count": 144
        }
      ]
    },
    {
      "cell_type": "code",
      "source": [
        "u_set ={''}\n",
        "run_set = {''}\n",
        "for i in mat:\n",
        "  for j in i:\n",
        "    u_set.add(j)\n",
        "if '' in u_set:\n",
        "  u_set.remove('')\n",
        "  run_set.remove('')\n",
        "print(u_set)\n",
        "print(run_set)"
      ],
      "metadata": {
        "colab": {
          "base_uri": "https://localhost:8080/"
        },
        "id": "3c-W1solUcso",
        "outputId": "fbadfbb0-98bf-425d-8b97-4346de598188"
      },
      "execution_count": 150,
      "outputs": [
        {
          "output_type": "stream",
          "name": "stdout",
          "text": [
            "{'requirements', 'initially', 'interpreting', 'libraries', 'important', 'architecturedesign', 'controls', 'debugging', 'executing', 'study', 'provide', 'domestic', 'finding', 'historyin', 'operation', 'causing', 'risks', 'allow', 'rocket', 'operations', 'described', 'bypass', 'prototype', 'engineering', 'broader', 'interfaces', 'documenting', 'reviewing', 'commissioned', 'widespread', 'detect', 'architecture', 'obvious', 'economy', 'hardware', 'identify', 'flaw', 'mean', 'associated', 'percent', 'prototyping', 'improvement', 'autocorrect', 'enginecontrol', 'century', 'miscarriage', 'annually', 'desired', 'application', 'result', 'programming', 'characteristics', 'correctness', 'overall', 'designed', 'office', 'freezing', 'prevalent', 'directly', 'reuse', 'caused', 'code', 'crash', 'structured', 'monitoring', 'institute', 'implementation', 'test', '1980s', 'deployment', 'post', 'contexts', '21st', 'onboard', 'illustration', 'typically', 'development', 'accompanies', 'user', 'effects', 'specifying', 'industry', 'involves', 'based', 'therac25', 'qualities', 'later', 'staff', 'text', 'demand', 'analyzing', 'errors', 'radiation', 'creating', 'launch', 'detrimental', 'usability', 'programs', 'agencys', 'unexpected', '1994', 'obtain', 'linked', 'algorithms', '–', 'new', 'failure', 'termed', 'act', '06', 'final', 'behave', 'mistakes', 'written', 'examining', 'conceiving', 'embedded', 'scandal', 'chinook', 'fixing', 'relations', 'infrastructure', 'ways', 'administrators', '5', '59', 'product', 'automation', 'sense', 'ariane', 'british', 'testing', 'deter', 'risk', 'frameworks', 'formal', 'arise', 'completeness', 'interaction', 'maintenance', 'objective', 'causes', 'products', 'artifacts', '1950s', 'marketing', 'tools', 'attributes', 'research', 'security', 'principles', 'conditions', 'enduser', 'killing', 'space', 'independent', 'explains', 'manuals', 'behavior', 'disasters', 'operates', 'manifestation', 'unintended', 'national', 'writing', 'includes', 'damage', 'support', 'users', '2002', 'controlled', 'extracting', 'raf', 'necessarily', 'department', 'apis', 'tests', '29', 'analysis', 'documentation', 'scripts', 'uses', 'technology', 'limited', 'estimated', 'trigger', 'standards', 'maintaining', 'conception', 'reengineering', 'performance', 'components', 'operating', 'implemented', 'ripple', 'construction', 'pinpoint', 'buggy', 'coding', 'perspective', 'observability', 'capabilities', 'commerces', 'end', 'machine', 'market', 'gross', 'things', 'destroyed', 'design', 'subtle', 'information', 'appreciate', 'like', 'techniquessoftware', 'error', 'privilegessome', 'produce', 'feasibility', 'quality', 'humans', 'access', 'bugs', 'billion', 'designing', 'boundary', 'environment', 'intent', 'correcting', 'patient', 'processes', 'example', 'planning', 'cost', '1996', 'validation', 'process', 'foundation', 'helicopter', 'fault', 'source', 'order', 'guidance', 'qualify', 'involved', 'us1', 'use', 'incorrect', 'developers', 'concluded', 'justice', 'patterns', 'enable', 'working', 'unauthorized', 'roles', 'understand', 'people', 'program', 'european', 'malicious', 'blamed', 'software', 'statements', 'crashed', 'deaths', 'planned', 'overview', 'include', 'sponsors', 'viability', 'different', 'pilot', 'technical', 'production', 'formatting', 'applications', 'verification', 'business', 'therapy', 'legal', 'techniques', 'thought', 'considerations', 'bug', 'early', 'types', 'view', 'systems', 'modification', 'activities', 'responsible', 'minute'}\n",
            "set()\n"
          ]
        }
      ]
    },
    {
      "cell_type": "code",
      "source": [
        "topic_list = df.iloc[:,0]\n",
        "print(topic_list) "
      ],
      "metadata": {
        "colab": {
          "base_uri": "https://localhost:8080/"
        },
        "id": "-0WUQQuvetUH",
        "outputId": "6d0fb9f5-c9b3-4f96-a913-acac841d6fa2"
      },
      "execution_count": 146,
      "outputs": [
        {
          "output_type": "stream",
          "name": "stdout",
          "text": [
            "0      Software development\n",
            "1    Software documentation\n",
            "2          Software testing\n",
            "3              Software bug\n",
            "Name: 0, dtype: object\n"
          ]
        }
      ]
    },
    {
      "cell_type": "code",
      "source": [
        "ans = []\n",
        "run_li = []\n",
        "for i in mat:\n",
        "  tempx = []\n",
        "  for j in i:\n",
        "    if j in run_li:\n",
        "      tempx.append(0)\n",
        "      tempx.append(j)\n",
        "    else:\n",
        "      li = model.wv.most_similar(j)\n",
        "      tempx.append(li[0])\n",
        "      run_li.append(j)\n",
        "  ans.append(tempx)\n",
        "print(ans)"
      ],
      "metadata": {
        "colab": {
          "base_uri": "https://localhost:8080/"
        },
        "id": "Jzl-HO9Le5ni",
        "outputId": "caf72c6b-4523-4ce1-dc3a-a7f301cc853c"
      },
      "execution_count": 159,
      "outputs": [
        {
          "output_type": "stream",
          "name": "stdout",
          "text": [
            "[[('pinpoint', 0.2511258125305176), ('implemented', 0.2785477042198181), ('behave', 0.30963456630706787), ('agencys', 0.26023343205451965), ('national', 0.2419559806585312), ('interfaces', 0.2774057686328888), ('manuals', 0.298584520816803), ('finding', 0.2598475217819214), ('fixing', 0.2687617838382721), ('overall', 0.2971299886703491), ('concluded', 0.29826804995536804), ('research', 0.28527653217315674), ('boundary', 0.3320690989494324), ('trigger', 0.2840937376022339), ('attributes', 0.29120102524757385), ('us1', 0.21574340760707855), 0, 'software', ('designed', 0.23651272058486938), 0, 'software', 0, 'development', ('uses', 0.2506263852119446), ('formatting', 0.289157509803772), 0, 'maintaining', ('ariane', 0.2684153914451599), ('technology', 0.3186204433441162), ('patterns', 0.29180121421813965), ('applications', 0.2678487002849579), ('deaths', 0.25619009137153625), ('freezing', 0.2940739393234253), ('industry', 0.2766311764717102), ('autocorrect', 0.26887938380241394), 0, 'software', ('behavior', 0.2669539749622345), ('conditions', 0.30136293172836304), 0, 'software', ('types', 0.28690212965011597), ('examining', 0.25513747334480286), ('widespread', 0.24792428314685822), 0, 'process', 0, 'software', 0, 'development', 0, 'includes', ('involved', 0.2852765619754791), ('british', 0.2779120206832886), 0, 'development', ('bug', 0.2556588649749756), ('caused', 0.28991422057151794), ('understand', 0.2735949754714966), ('implementation', 0.2962096035480499), ('therapy', 0.30545711517333984), ('text', 0.33259719610214233), ('manuals', 0.249125137925148), 0, 'software', ('1950s', 0.34078511595726013)], [0, 'software', ('user', 0.2712389826774597), ('provide', 0.26696470379829407), ('activities', 0.33259719610214233), ('access', 0.2302384078502655), ('objective', 0.3177374005317688), 0, 'software', ('unexpected', 0.2928367853164673), 0, 'source', 0, 'code', 0, 'documentation', ('test', 0.25167709589004517), 0, 'software', ('commerces', 0.22093777358531952), ('scandal', 0.23517590761184692), ('applications', 0.26729685068130493), ('2002', 0.23158599436283112), ('correctness', 0.25010958313941956), ('produce', 0.3534885048866272), 0, 'different', ('linked', 0.22891642153263092), 0, 'documentation', ('technical', 0.3012247085571289), 0, 'software', ('allow', 0.3259889483451843), ('typically', 0.28690212965011597), 0, 'documentation', ('subtle', 0.2930392920970917), ('typically', 0.2648000717163086), ('overview', 0.21365489065647125), ('responsible', 0.25416243076324463), ('space', 0.3146412670612335), ('administrators', 0.30937498807907104), ('post', 0.26633232831954956), ('patterns', 0.2583525776863098), ('domestic', 0.2515975832939148), ('billion', 0.2508045434951782), ('development', 0.2785477340221405), ('formal', 0.2696576416492462), 0, '–', ('domestic', 0.22830012440681458), 0, 'software', 0, 'includes', ('text', 0.28410059213638306), ('prototype', 0.2729814648628235), ('operating', 0.31929346919059753), ('detrimental', 0.27118319272994995), ('risks', 0.2466820478439331), 0, 'software', 0, 'components', ('important', 0.3012247085571289), 0, '–', 0, 'documentation', 0, 'code', ('improvement', 0.31006723642349243), ('linked', 0.3114888668060303), ('standards', 0.24718694388866425), ('killing', 0.33584722876548767), ('documentation', 0.2712390124797821), 0, '–', ('programming', 0.298584520816803), ('deployment', 0.28643798828125), ('attributes', 0.30937498807907104), ('quality', 0.24601508677005768), ('explains', 0.24374732375144958), ('based', 0.28202030062675476), 0, '–', ('enable', 0.2742796540260315), ('like', 0.307834655046463), ('artifacts', 0.27229180932044983), 0, 'market', ('bugs', 0.25829142332077026)], [0, 'software', 0, 'testing', ('fault', 0.22950595617294312), ('independent', 0.3525676727294922), ('analysis', 0.27229180932044983), ('final', 0.2669539749622345), 0, 'software', ('obvious', 0.3572359085083008), ('59', 0.23773354291915894), ('hardware', 0.21956118941307068), 0, 'software', 0, 'testing', ('written', 0.26696473360061646), ('program', 0.33803263306617737), ('examining', 0.3525676727294922), ('british', 0.2837771773338318), 0, 'software', ('engineering', 0.3259889483451843), ('mistakes', 0.35888299345970154), ('agencys', 0.3609621524810791), ('reuse', 0.27359500527381897), ('ripple', 0.3076387643814087), 0, 'software', ('administrators', 0.30502498149871826), 0, 'test', ('independent', 0.29846322536468506), 0, 'include', ('reuse', 0.23993545770645142), ('allow', 0.2676151394844055), ('unintended', 0.25223708152770996), 0, 'product', 0, 'requirements', ('cost', 0.31778526306152344), ('things', 0.25010958313941956), ('application', 0.3294815123081207), ('perspective', 0.3152001202106476), ('conception', 0.2766312062740326), ('like', 0.3152001202106476), 0, 'business', 0, 'perspective', ('considerations', 0.2485959529876709), ('environment', 0.25289836525917053), 0, 'implementation', ('application', 0.2513141632080078), ('tools', 0.2997332811355591), ('1994', 0.2958962917327881), ('independent', 0.2641358971595764), ('obtain', 0.269155889749527), ('trigger', 0.25847047567367554), 0, 'product', ('obtain', 0.2698320746421814), ('bug', 0.2971299886703491), 0, 'design', 0, 'product', ('result', 0.22882917523384094), 0, 'product', ('pinpoint', 0.3163115978240967), ('algorithms', 0.31006720662117004), ('errors', 0.2850729823112488), 0, 'techniques', 0, 'design', ('incorrect', 0.36446133255958557), ('century', 0.2877977788448334), 0, 'written', 0, 'code', ('study', 0.33245745301246643), 0, 'techniques', 0, 'like', ('creating', 0.3320690989494324), ('manifestation', 0.30136293172836304), ('risk', 0.2733924388885498), ('objective', 0.33803263306617737), ('contexts', 0.3294815123081207), ('boundary', 0.3307294249534607), 0, 'examining', 0, 'behavior', 0, 'reviewing', ('improvement', 0.29483166337013245), 0, 'infrastructure', ('techniques', 0.22718465328216553), ('study', 0.3333892524242401), ('european', 0.2533065378665924), ('libraries', 0.3063349425792694), 0, 'activities', ('operating', 0.30942004919052124), ('billion', 0.28487351536750793), ('initially', 0.25321143865585327), 0, 'testing', 0, 'provide', 0, 'objective', 0, 'independent', ('estimated', 0.26333096623420715), ('support', 0.2460150569677353), 0, 'software', ('executing', 0.2733924388885498), ('capabilities', 0.25935089588165283), ('monitoring', 0.25555169582366943), ('british', 0.2718467712402344)], [0, 'software', 0, 'bug', ('risks', 0.22398298978805542), ('fixing', 0.23971745371818542), ('errors', 0.27874135971069336), 0, 'design', 0, 'development', ('writing', 0.22907105088233948), 0, 'software', ('percent', 0.31978094577789307), ('people', 0.3534885048866272), ('patterns', 0.36446136236190796), ('embedded', 0.2928367853164673), 0, 'result', ('process', 0.30963456630706787), ('analyzing', 0.25223711133003235), ('libraries', 0.33120784163475037), 0, 'process', ('obvious', 0.2980048656463623), ('29', 0.2632286548614502), ('radiation', 0.27221882343292236), ('early', 0.2788127064704895), ('new', 0.274905800819397), ('produce', 0.3228864073753357), ('freezing', 0.2765410840511322), 0, 'techniques', ('errors', 0.3882257342338562), ('developers', 0.3163115978240967), 0, 'bugs', ('products', 0.34078508615493774), ('statements', 0.2384013831615448), ('end', 0.28467240929603577), ('minute', 0.2945227026939392), ('systems', 0.2288290560245514), ('causing', 0.28427520394325256), 0, 'bugs', ('application', 0.24736037850379944), 0, 'bugs', 0, 'software', ('miscarriage', 0.22571468353271484), ('business', 0.35888296365737915), ('tools', 0.3882257342338562), ('information', 0.2598925232887268), ('scripts', 0.274147629737854), 0, 'users', 0, 'requirements', ('tests', 0.24745193123817444), ('planning', 0.24108222126960754), 0, 'design', 0, 'writing', 0, 'source', 0, 'code', ('privilegessome', 0.33700960874557495), ('deployment', 0.2806153893470764), ('space', 0.26371920108795166), 0, 'programs', ('construction', 0.3192935287952423), 0, 'systems', ('ways', 0.33120784163475037), 0, 'program', 0, 'bugs', ('uses', 0.2516936659812927), ('malicious', 0.2871687412261963), 0, 'bugs', ('onboard', 0.293995201587677), 0, 'errors', ('risks', 0.3076387643814087), ('like', 0.270830899477005), 0, 'effects', 0, 'bugs', ('include', 0.2930392920970917), 0, 'unintended', 0, 'text', ('writing', 0.2891574800014496), ('test', 0.3572359085083008), 0, 'effects', ('autocorrect', 0.28427520394325256), 0, 'program', ('broader', 0.24869999289512634), ('historyin', 0.37603244185447693), 0, 'causing', ('ripple', 0.27679547667503357), 0, 'hardware', 0, 'bugs', ('rocket', 0.2878495156764984), 0, 'security', 0, 'bugs', ('machine', 0.23548325896263123), ('perspective', 0.2805526852607727), ('century', 0.30401748418807983), 0, 'user', ('include', 0.2630695402622223), ('implemented', 0.26544660329818726), ('raf', 0.25699931383132935), ('testing', 0.2583329677581787), ('onboard', 0.27868878841400146), ('unintended', 0.22479629516601562), ('interaction', 0.33700960874557495), 0, 'software', 0, 'bugs', ('interfaces', 0.31148892641067505), ('responsible', 0.2504349648952484), 0, 'bugs', 0, 'code', ('commissioned', 0.2402789145708084), ('independent', 0.25990739464759827), ('intent', 0.30702677369117737), ('maintenance', 0.30545711517333984), ('view', 0.2696647346019745), ('coding', 0.24340477585792542), ('code', 0.2836720645427704), ('limited', 0.2527536153793335), ('important', 0.28918254375457764), ('thought', 0.27396005392074585), ('prevalent', 0.2769593894481659), ('processes', 0.2771390676498413), ('identify', 0.3146412670612335), ('appreciate', 0.3609621524810791), ('production', 0.2552170753479004), ('observability', 0.28487351536750793), ('environment', 0.2729814350605011), ('source', 0.2684153914451599), ('development', 0.22034218907356262), ('qualify', 0.28784945607185364), ('justice', 0.26671427488327026), ('deter', 0.2945227324962616), ('considerations', 0.24187983572483063), 0, 'bug', ('trigger', 0.293995201587677), ('responsible', 0.26352497935295105), 0, 'program', ('security', 0.2958962917327881), ('fault', 0.2607327103614807), ('scripts', 0.26818543672561646), ('program', 0.2042837142944336), ('new', 0.24843762814998627), ('end', 0.3358471989631653), ('british', 0.3180232346057892), ('techniquessoftware', 0.25321143865585327), ('allow', 0.2832111120223999), ('uses', 0.2536676824092865), 0, 'error', ('buggy', 0.24384094774723053), ('1980s', 0.27396005392074585), ('modification', 0.28991419076919556), 0, 'software', 0, 'bug', ('causing', 0.24776014685630798), 0, 'buggy', 0, 'software', 0, 'caused', ('termed', 0.2788126766681671), ('market', 0.25201916694641113), ('malicious', 0.30401748418807983), ('29', 0.3180232346057892), ('radiation', 0.29482153058052063), ('risk', 0.26423180103302), ('written', 0.25330373644828796), ('national', 0.26317501068115234), ('architecturedesign', 0.24040737748146057), ('destroyed', 0.26671427488327026), 0, 'british', ('techniques', 0.28730690479278564), ('freezing', 0.3760324716567993), ('different', 0.23158597946166992), ('scripts', 0.3333892226219177), ('engineering', 0.27067553997039795), ('structured', 0.22668002545833588), ('ways', 0.2858816981315613), ('widespread', 0.26317504048347473), ('objective', 0.2719946503639221), ('libraries', 0.3127598762512207), ('code', 0.318620502948761), ('fixing', 0.29826804995536804), 0, 'software', 0, 'bugs', 0, 'errors', ('1996', 0.2769593596458435), ('principles', 0.27118319272994995), ('completeness', 0.31778526306152344), ('radiation', 0.23684614896774292), ('information', 0.26333093643188477), ('killing', 0.28539353609085083), 0, 'billion', ('scripts', 0.23025737702846527), ('caused', 0.24556860327720642), ('causes', 0.31978100538253784), ('study', 0.21796847879886627), ('security', 0.2595147490501404), 0, 'product']]\n"
          ]
        }
      ]
    },
    {
      "cell_type": "code",
      "source": [
        "for i in ans:\n",
        "  print(i)"
      ],
      "metadata": {
        "colab": {
          "base_uri": "https://localhost:8080/"
        },
        "id": "A7Nvjdla0yIW",
        "outputId": "c9b9c43e-1167-4e96-b923-c491d3f6d996"
      },
      "execution_count": 160,
      "outputs": [
        {
          "output_type": "stream",
          "name": "stdout",
          "text": [
            "[('pinpoint', 0.2511258125305176), ('implemented', 0.2785477042198181), ('behave', 0.30963456630706787), ('agencys', 0.26023343205451965), ('national', 0.2419559806585312), ('interfaces', 0.2774057686328888), ('manuals', 0.298584520816803), ('finding', 0.2598475217819214), ('fixing', 0.2687617838382721), ('overall', 0.2971299886703491), ('concluded', 0.29826804995536804), ('research', 0.28527653217315674), ('boundary', 0.3320690989494324), ('trigger', 0.2840937376022339), ('attributes', 0.29120102524757385), ('us1', 0.21574340760707855), 0, 'software', ('designed', 0.23651272058486938), 0, 'software', 0, 'development', ('uses', 0.2506263852119446), ('formatting', 0.289157509803772), 0, 'maintaining', ('ariane', 0.2684153914451599), ('technology', 0.3186204433441162), ('patterns', 0.29180121421813965), ('applications', 0.2678487002849579), ('deaths', 0.25619009137153625), ('freezing', 0.2940739393234253), ('industry', 0.2766311764717102), ('autocorrect', 0.26887938380241394), 0, 'software', ('behavior', 0.2669539749622345), ('conditions', 0.30136293172836304), 0, 'software', ('types', 0.28690212965011597), ('examining', 0.25513747334480286), ('widespread', 0.24792428314685822), 0, 'process', 0, 'software', 0, 'development', 0, 'includes', ('involved', 0.2852765619754791), ('british', 0.2779120206832886), 0, 'development', ('bug', 0.2556588649749756), ('caused', 0.28991422057151794), ('understand', 0.2735949754714966), ('implementation', 0.2962096035480499), ('therapy', 0.30545711517333984), ('text', 0.33259719610214233), ('manuals', 0.249125137925148), 0, 'software', ('1950s', 0.34078511595726013)]\n",
            "[0, 'software', ('user', 0.2712389826774597), ('provide', 0.26696470379829407), ('activities', 0.33259719610214233), ('access', 0.2302384078502655), ('objective', 0.3177374005317688), 0, 'software', ('unexpected', 0.2928367853164673), 0, 'source', 0, 'code', 0, 'documentation', ('test', 0.25167709589004517), 0, 'software', ('commerces', 0.22093777358531952), ('scandal', 0.23517590761184692), ('applications', 0.26729685068130493), ('2002', 0.23158599436283112), ('correctness', 0.25010958313941956), ('produce', 0.3534885048866272), 0, 'different', ('linked', 0.22891642153263092), 0, 'documentation', ('technical', 0.3012247085571289), 0, 'software', ('allow', 0.3259889483451843), ('typically', 0.28690212965011597), 0, 'documentation', ('subtle', 0.2930392920970917), ('typically', 0.2648000717163086), ('overview', 0.21365489065647125), ('responsible', 0.25416243076324463), ('space', 0.3146412670612335), ('administrators', 0.30937498807907104), ('post', 0.26633232831954956), ('patterns', 0.2583525776863098), ('domestic', 0.2515975832939148), ('billion', 0.2508045434951782), ('development', 0.2785477340221405), ('formal', 0.2696576416492462), 0, '–', ('domestic', 0.22830012440681458), 0, 'software', 0, 'includes', ('text', 0.28410059213638306), ('prototype', 0.2729814648628235), ('operating', 0.31929346919059753), ('detrimental', 0.27118319272994995), ('risks', 0.2466820478439331), 0, 'software', 0, 'components', ('important', 0.3012247085571289), 0, '–', 0, 'documentation', 0, 'code', ('improvement', 0.31006723642349243), ('linked', 0.3114888668060303), ('standards', 0.24718694388866425), ('killing', 0.33584722876548767), ('documentation', 0.2712390124797821), 0, '–', ('programming', 0.298584520816803), ('deployment', 0.28643798828125), ('attributes', 0.30937498807907104), ('quality', 0.24601508677005768), ('explains', 0.24374732375144958), ('based', 0.28202030062675476), 0, '–', ('enable', 0.2742796540260315), ('like', 0.307834655046463), ('artifacts', 0.27229180932044983), 0, 'market', ('bugs', 0.25829142332077026)]\n",
            "[0, 'software', 0, 'testing', ('fault', 0.22950595617294312), ('independent', 0.3525676727294922), ('analysis', 0.27229180932044983), ('final', 0.2669539749622345), 0, 'software', ('obvious', 0.3572359085083008), ('59', 0.23773354291915894), ('hardware', 0.21956118941307068), 0, 'software', 0, 'testing', ('written', 0.26696473360061646), ('program', 0.33803263306617737), ('examining', 0.3525676727294922), ('british', 0.2837771773338318), 0, 'software', ('engineering', 0.3259889483451843), ('mistakes', 0.35888299345970154), ('agencys', 0.3609621524810791), ('reuse', 0.27359500527381897), ('ripple', 0.3076387643814087), 0, 'software', ('administrators', 0.30502498149871826), 0, 'test', ('independent', 0.29846322536468506), 0, 'include', ('reuse', 0.23993545770645142), ('allow', 0.2676151394844055), ('unintended', 0.25223708152770996), 0, 'product', 0, 'requirements', ('cost', 0.31778526306152344), ('things', 0.25010958313941956), ('application', 0.3294815123081207), ('perspective', 0.3152001202106476), ('conception', 0.2766312062740326), ('like', 0.3152001202106476), 0, 'business', 0, 'perspective', ('considerations', 0.2485959529876709), ('environment', 0.25289836525917053), 0, 'implementation', ('application', 0.2513141632080078), ('tools', 0.2997332811355591), ('1994', 0.2958962917327881), ('independent', 0.2641358971595764), ('obtain', 0.269155889749527), ('trigger', 0.25847047567367554), 0, 'product', ('obtain', 0.2698320746421814), ('bug', 0.2971299886703491), 0, 'design', 0, 'product', ('result', 0.22882917523384094), 0, 'product', ('pinpoint', 0.3163115978240967), ('algorithms', 0.31006720662117004), ('errors', 0.2850729823112488), 0, 'techniques', 0, 'design', ('incorrect', 0.36446133255958557), ('century', 0.2877977788448334), 0, 'written', 0, 'code', ('study', 0.33245745301246643), 0, 'techniques', 0, 'like', ('creating', 0.3320690989494324), ('manifestation', 0.30136293172836304), ('risk', 0.2733924388885498), ('objective', 0.33803263306617737), ('contexts', 0.3294815123081207), ('boundary', 0.3307294249534607), 0, 'examining', 0, 'behavior', 0, 'reviewing', ('improvement', 0.29483166337013245), 0, 'infrastructure', ('techniques', 0.22718465328216553), ('study', 0.3333892524242401), ('european', 0.2533065378665924), ('libraries', 0.3063349425792694), 0, 'activities', ('operating', 0.30942004919052124), ('billion', 0.28487351536750793), ('initially', 0.25321143865585327), 0, 'testing', 0, 'provide', 0, 'objective', 0, 'independent', ('estimated', 0.26333096623420715), ('support', 0.2460150569677353), 0, 'software', ('executing', 0.2733924388885498), ('capabilities', 0.25935089588165283), ('monitoring', 0.25555169582366943), ('british', 0.2718467712402344)]\n",
            "[0, 'software', 0, 'bug', ('risks', 0.22398298978805542), ('fixing', 0.23971745371818542), ('errors', 0.27874135971069336), 0, 'design', 0, 'development', ('writing', 0.22907105088233948), 0, 'software', ('percent', 0.31978094577789307), ('people', 0.3534885048866272), ('patterns', 0.36446136236190796), ('embedded', 0.2928367853164673), 0, 'result', ('process', 0.30963456630706787), ('analyzing', 0.25223711133003235), ('libraries', 0.33120784163475037), 0, 'process', ('obvious', 0.2980048656463623), ('29', 0.2632286548614502), ('radiation', 0.27221882343292236), ('early', 0.2788127064704895), ('new', 0.274905800819397), ('produce', 0.3228864073753357), ('freezing', 0.2765410840511322), 0, 'techniques', ('errors', 0.3882257342338562), ('developers', 0.3163115978240967), 0, 'bugs', ('products', 0.34078508615493774), ('statements', 0.2384013831615448), ('end', 0.28467240929603577), ('minute', 0.2945227026939392), ('systems', 0.2288290560245514), ('causing', 0.28427520394325256), 0, 'bugs', ('application', 0.24736037850379944), 0, 'bugs', 0, 'software', ('miscarriage', 0.22571468353271484), ('business', 0.35888296365737915), ('tools', 0.3882257342338562), ('information', 0.2598925232887268), ('scripts', 0.274147629737854), 0, 'users', 0, 'requirements', ('tests', 0.24745193123817444), ('planning', 0.24108222126960754), 0, 'design', 0, 'writing', 0, 'source', 0, 'code', ('privilegessome', 0.33700960874557495), ('deployment', 0.2806153893470764), ('space', 0.26371920108795166), 0, 'programs', ('construction', 0.3192935287952423), 0, 'systems', ('ways', 0.33120784163475037), 0, 'program', 0, 'bugs', ('uses', 0.2516936659812927), ('malicious', 0.2871687412261963), 0, 'bugs', ('onboard', 0.293995201587677), 0, 'errors', ('risks', 0.3076387643814087), ('like', 0.270830899477005), 0, 'effects', 0, 'bugs', ('include', 0.2930392920970917), 0, 'unintended', 0, 'text', ('writing', 0.2891574800014496), ('test', 0.3572359085083008), 0, 'effects', ('autocorrect', 0.28427520394325256), 0, 'program', ('broader', 0.24869999289512634), ('historyin', 0.37603244185447693), 0, 'causing', ('ripple', 0.27679547667503357), 0, 'hardware', 0, 'bugs', ('rocket', 0.2878495156764984), 0, 'security', 0, 'bugs', ('machine', 0.23548325896263123), ('perspective', 0.2805526852607727), ('century', 0.30401748418807983), 0, 'user', ('include', 0.2630695402622223), ('implemented', 0.26544660329818726), ('raf', 0.25699931383132935), ('testing', 0.2583329677581787), ('onboard', 0.27868878841400146), ('unintended', 0.22479629516601562), ('interaction', 0.33700960874557495), 0, 'software', 0, 'bugs', ('interfaces', 0.31148892641067505), ('responsible', 0.2504349648952484), 0, 'bugs', 0, 'code', ('commissioned', 0.2402789145708084), ('independent', 0.25990739464759827), ('intent', 0.30702677369117737), ('maintenance', 0.30545711517333984), ('view', 0.2696647346019745), ('coding', 0.24340477585792542), ('code', 0.2836720645427704), ('limited', 0.2527536153793335), ('important', 0.28918254375457764), ('thought', 0.27396005392074585), ('prevalent', 0.2769593894481659), ('processes', 0.2771390676498413), ('identify', 0.3146412670612335), ('appreciate', 0.3609621524810791), ('production', 0.2552170753479004), ('observability', 0.28487351536750793), ('environment', 0.2729814350605011), ('source', 0.2684153914451599), ('development', 0.22034218907356262), ('qualify', 0.28784945607185364), ('justice', 0.26671427488327026), ('deter', 0.2945227324962616), ('considerations', 0.24187983572483063), 0, 'bug', ('trigger', 0.293995201587677), ('responsible', 0.26352497935295105), 0, 'program', ('security', 0.2958962917327881), ('fault', 0.2607327103614807), ('scripts', 0.26818543672561646), ('program', 0.2042837142944336), ('new', 0.24843762814998627), ('end', 0.3358471989631653), ('british', 0.3180232346057892), ('techniquessoftware', 0.25321143865585327), ('allow', 0.2832111120223999), ('uses', 0.2536676824092865), 0, 'error', ('buggy', 0.24384094774723053), ('1980s', 0.27396005392074585), ('modification', 0.28991419076919556), 0, 'software', 0, 'bug', ('causing', 0.24776014685630798), 0, 'buggy', 0, 'software', 0, 'caused', ('termed', 0.2788126766681671), ('market', 0.25201916694641113), ('malicious', 0.30401748418807983), ('29', 0.3180232346057892), ('radiation', 0.29482153058052063), ('risk', 0.26423180103302), ('written', 0.25330373644828796), ('national', 0.26317501068115234), ('architecturedesign', 0.24040737748146057), ('destroyed', 0.26671427488327026), 0, 'british', ('techniques', 0.28730690479278564), ('freezing', 0.3760324716567993), ('different', 0.23158597946166992), ('scripts', 0.3333892226219177), ('engineering', 0.27067553997039795), ('structured', 0.22668002545833588), ('ways', 0.2858816981315613), ('widespread', 0.26317504048347473), ('objective', 0.2719946503639221), ('libraries', 0.3127598762512207), ('code', 0.318620502948761), ('fixing', 0.29826804995536804), 0, 'software', 0, 'bugs', 0, 'errors', ('1996', 0.2769593596458435), ('principles', 0.27118319272994995), ('completeness', 0.31778526306152344), ('radiation', 0.23684614896774292), ('information', 0.26333093643188477), ('killing', 0.28539353609085083), 0, 'billion', ('scripts', 0.23025737702846527), ('caused', 0.24556860327720642), ('causes', 0.31978100538253784), ('study', 0.21796847879886627), ('security', 0.2595147490501404), 0, 'product']\n"
          ]
        }
      ]
    }
  ]
}