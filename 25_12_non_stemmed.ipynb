{
  "cells": [
    {
      "cell_type": "code",
      "execution_count": 1,
      "metadata": {
        "colab": {
          "base_uri": "https://localhost:8080/",
          "height": 0
        },
        "id": "zO1Z99AZT9xa",
        "outputId": "d69e7f62-8c51-45ab-865e-b211a2926365"
      },
      "outputs": [
        {
          "name": "stdout",
          "output_type": "stream",
          "text": [
            "Mounted at drive\n"
          ]
        }
      ],
      "source": [
        "import gensim\n",
        "import pandas as pd\n",
        "from gensim.parsing.preprocessing import remove_stopwords\n",
        "\n",
        "#reference underneath \n",
        "#https://github.com/codebasics/deep-learning-keras-tf-tutorial/blob/master/42_word2vec_gensim/42_word2vec_gensim.ipynb"
      ]
    },
    {
      "cell_type": "code",
      "execution_count": 2,
      "metadata": {
        "id": "i8Jtwo2TxYA2"
      },
      "outputs": [],
      "source": [
        "df = pd.read_excel(\"/content/3_data.xlsx\",index_col=False)"
      ]
    },
    {
      "cell_type": "code",
      "execution_count": 3,
      "metadata": {
        "colab": {
          "base_uri": "https://localhost:8080/",
          "height": 0
        },
        "id": "mZB1qEDgxZee",
        "outputId": "466faf59-4276-4a0d-b49d-e5825b4d4360"
      },
      "outputs": [
        {
          "name": "stdout",
          "output_type": "stream",
          "text": [
            "[['software', 'development', 'process', 'conceiving', 'specifying', 'designing', 'programming', 'documenting', 'testing', 'bug', 'fixing', 'involved', 'creating', 'maintaining', 'applications', 'frameworks', 'software', 'components', 'software', 'development', 'involves', 'writing', 'maintaining', 'source', 'code', 'broader', 'sense', 'includes', 'processes', 'conception', 'desired', 'software', 'final', 'manifestation', 'software', 'typically', 'planned', 'structured', 'process', 'software', 'development', 'includes', 'research', 'new', 'development', 'prototyping', 'modification', 'reuse', 'reengineering', 'maintenance', 'activities', 'result', 'software', 'products'], ['software', 'documentation', 'written', 'text', 'illustration', 'accompanies', 'software', 'embedded', 'source', 'code', 'documentation', 'explains', 'software', 'operates', 'use', 'mean', 'different', 'things', 'people', 'different', 'roles', 'documentation', 'important', 'software', 'engineering', 'types', 'documentation', 'include', 'requirements', '–', 'statements', 'identify', 'attributes', 'capabilities', 'characteristics', 'qualities', 'foundation', 'implemented', 'architecturedesign', '–', 'overview', 'software', 'includes', 'relations', 'environment', 'construction', 'principles', 'design', 'software', 'components', 'technical', '–', 'documentation', 'code', 'algorithms', 'interfaces', 'apis', 'end', 'user', '–', 'manuals', 'enduser', 'administrators', 'support', 'staff', 'marketing', '–', 'market', 'product', 'analysis', 'market', 'demand'], ['software', 'testing', 'act', 'examining', 'artifacts', 'behavior', 'software', 'test', 'validation', 'verification', 'software', 'testing', 'provide', 'objective', 'independent', 'view', 'software', 'allow', 'business', 'appreciate', 'understand', 'risks', 'software', 'implementation', 'test', 'techniques', 'include', 'necessarily', 'limited', 'analyzing', 'product', 'requirements', 'completeness', 'correctness', 'contexts', 'like', 'industry', 'perspective', 'business', 'perspective', 'feasibility', 'viability', 'implementation', 'usability', 'performance', 'security', 'infrastructure', 'considerations', 'reviewing', 'product', 'architecture', 'overall', 'design', 'product', 'working', 'product', 'developers', 'improvement', 'coding', 'techniques', 'design', 'patterns', 'tests', 'written', 'code', 'based', 'techniques', 'like', 'boundary', 'conditions', 'executing', 'program', 'application', 'intent', 'examining', 'behavior', 'reviewing', 'deployment', 'infrastructure', 'associated', 'scripts', 'automation', 'production', 'activities', 'monitoring', 'observability', 'techniquessoftware', 'testing', 'provide', 'objective', 'independent', 'information', 'quality', 'software', 'risk', 'failure', 'users', 'sponsors'], ['software', 'bug', 'error', 'flaw', 'fault', 'design', 'development', 'operation', 'software', 'causes', 'produce', 'incorrect', 'unexpected', 'result', 'behave', 'unintended', 'ways', 'process', 'finding', 'correcting', 'bugs', 'termed', 'debugging', 'uses', 'formal', 'techniques', 'tools', 'pinpoint', 'bugs', '1950s', 'systems', 'designed', 'deter', 'detect', 'autocorrect', 'bugs', 'operations', 'bugs', 'software', 'arise', 'mistakes', 'errors', 'interpreting', 'extracting', 'users', 'requirements', 'planning', 'programs', 'design', 'writing', 'source', 'code', 'interaction', 'humans', 'hardware', 'programs', 'operating', 'systems', 'libraries', 'program', 'bugs', 'described', 'buggy', 'bugs', 'trigger', 'errors', 'ripple', 'effects', 'effects', 'bugs', 'subtle', 'unintended', 'text', 'formatting', 'obvious', 'effects', 'causing', 'program', 'crash', 'freezing', 'causing', 'damage', 'hardware', 'bugs', 'qualify', 'security', 'bugs', 'example', 'enable', 'malicious', 'user', 'bypass', 'access', 'controls', 'order', 'obtain', 'unauthorized', 'privilegessome', 'software', 'bugs', 'linked', 'disasters', 'bugs', 'code', 'controlled', 'therac25', 'radiation', 'therapy', 'machine', 'directly', 'responsible', 'patient', 'deaths', '1980s', '1996', 'european', 'space', 'agencys', 'us1', 'billion', 'prototype', 'ariane', '5', 'rocket', 'destroyed', 'minute', 'launch', 'bug', 'onboard', 'guidance', 'program', '1994', 'raf', 'chinook', 'helicopter', 'crashed', 'killing', '29', 'initially', 'blamed', 'pilot', 'error', 'later', 'thought', 'caused', 'software', 'bug', 'enginecontrol', 'buggy', 'software', 'caused', 'early', '21st', 'century', 'british', 'post', 'office', 'scandal', 'widespread', 'miscarriage', 'justice', 'british', 'legal', 'historyin', '2002', 'study', 'commissioned', 'department', 'commerces', 'national', 'institute', 'standards', 'technology', 'concluded', 'software', 'bugs', 'errors', 'prevalent', 'detrimental', 'cost', 'economy', 'estimated', '59', 'billion', 'annually', '06', 'percent', 'gross', 'domestic', 'product']]\n"
          ]
        }
      ],
      "source": [
        "x = df.iloc[:,1].tolist()\n",
        "total_words = []\n",
        "u_vocab = []\n",
        "punc = '''!()-[]{};:'\"\\,<>./?@#$%^&*_~'''\n",
        "mat = []\n",
        "for j in x:\n",
        "  for ele in j:\n",
        "    if ele in punc:\n",
        "        j = j.replace(ele, \"\")\n",
        "  temp = \"\"\n",
        "  for i in j:\n",
        "    if i.isupper():\n",
        "      temp=temp+i.lower()\n",
        "    else:\n",
        "      temp=temp+i\n",
        "  temp = remove_stopwords(temp)\n",
        "  j = temp\n",
        "  x = j.split()\n",
        "  mat.append(x)\n",
        "  for temp in x:\n",
        "    u_vocab.append(temp)\n",
        "    total_words.append(temp)\n",
        "print(mat)"
      ]
    },
    {
      "cell_type": "code",
      "execution_count": 4,
      "metadata": {
        "id": "lG72KomNyEtp"
      },
      "outputs": [],
      "source": [
        "model = gensim.models.Word2Vec(\n",
        "    window = 10, #before 10 characters and after 10 characters\n",
        "    min_count = 1, #no of words in a sentence\n",
        "    workers = 2 #threads\n",
        ")\n",
        "model.build_vocab(mat,progress_per=100)"
      ]
    },
    {
      "cell_type": "code",
      "execution_count": 5,
      "metadata": {
        "colab": {
          "base_uri": "https://localhost:8080/",
          "height": 0
        },
        "id": "iKWrYKtZyH1Y",
        "outputId": "ead0d982-c7d7-4b84-cddc-604a458b6069"
      },
      "outputs": [
        {
          "data": {
            "text/plain": [
              "5"
            ]
          },
          "execution_count": 5,
          "metadata": {},
          "output_type": "execute_result"
        }
      ],
      "source": [
        "model.epochs"
      ]
    },
    {
      "cell_type": "code",
      "execution_count": 6,
      "metadata": {
        "colab": {
          "base_uri": "https://localhost:8080/",
          "height": 0
        },
        "id": "CgVCwoPSyI_f",
        "outputId": "969a78a2-6fc3-43be-c699-3a1e307a30aa"
      },
      "outputs": [
        {
          "name": "stderr",
          "output_type": "stream",
          "text": [
            "WARNING:gensim.models.base_any2vec:under 10 jobs per worker: consider setting a smaller `batch_words' for smoother alpha decay\n"
          ]
        },
        {
          "data": {
            "text/plain": [
              "(1588, 2070)"
            ]
          },
          "execution_count": 6,
          "metadata": {},
          "output_type": "execute_result"
        }
      ],
      "source": [
        "model.train(mat,total_examples=model.corpus_count, epochs= model.epochs)"
      ]
    },
    {
      "cell_type": "code",
      "execution_count": 7,
      "metadata": {
        "colab": {
          "base_uri": "https://localhost:8080/",
          "height": 0
        },
        "id": "SzzyVx-KyJ4h",
        "outputId": "743d9015-e4e3-4f74-d024-1013749dbc4a"
      },
      "outputs": [
        {
          "data": {
            "text/plain": [
              "[('access', 0.23626269400119781),\n",
              " ('process', 0.22652654349803925),\n",
              " ('21st', 0.2256597876548767),\n",
              " ('unexpected', 0.21691828966140747),\n",
              " ('includes', 0.21661072969436646),\n",
              " ('bugs', 0.2082083374261856),\n",
              " ('rocket', 0.20005878806114197),\n",
              " ('later', 0.19583840668201447),\n",
              " ('business', 0.1877572238445282),\n",
              " ('like', 0.17431101202964783)]"
            ]
          },
          "execution_count": 7,
          "metadata": {},
          "output_type": "execute_result"
        }
      ],
      "source": [
        "model.wv.most_similar(\"software\")"
      ]
    },
    {
      "cell_type": "code",
      "execution_count": 8,
      "metadata": {
        "colab": {
          "base_uri": "https://localhost:8080/",
          "height": 0
        },
        "id": "mm-Tin_PyK8e",
        "outputId": "a5410982-1cb3-4463-d5e8-c18c7054b0c3"
      },
      "outputs": [
        {
          "name": "stdout",
          "output_type": "stream",
          "text": [
            "{'developers', 'debugging', 'privilegessome', 'implementation', 'british', 'termed', 'foundation', 'gross', 'directly', 'patient', 'monitoring', 'destroyed', 'machine', 'conditions', 'mistakes', 'enable', 'associated', 'industry', 'infrastructure', 'intent', 'programming', 'trigger', 'techniquessoftware', 'programs', '06', 'techniques', 'creating', 'detrimental', 'observability', 'damage', 'capabilities', '29', 'killing', 'thought', 'construction', 'linked', 'subtle', 'errors', 'applications', 'produce', 'final', 'prevalent', 'finding', 'later', 'considerations', 'user', 'administrators', 'described', 'writing', 'sponsors', 'scripts', 'correcting', 'behavior', 'provide', 'contexts', 'reviewing', 'annually', 'reuse', 'software', 'ripple', 'usability', 'initially', 'processes', 'blamed', 'deter', 'qualify', 'radiation', 'responsible', 'economy', 'conceiving', 'us1', '2002', '59', 'mean', 'risks', 'fixing', 'characteristics', 'application', 'relations', 'freezing', 'access', 'guidance', 'widespread', 'therapy', 'boundary', 'bug', 'use', 'manuals', 'helicopter', 'market', 'designed', 'verification', '1950s', 'correctness', 'overall', 'legal', 'ariane', 'controls', 'automation', 'caused', 'hardware', 'agencys', 'example', 'chinook', 'deployment', 'malicious', 'activities', 'process', 'requirements', '21st', 'commissioned', '1996', 'frameworks', 'humans', 'attributes', 'limited', 'institute', 'understand', 'marketing', 'cost', 'office', 'raf', 'implemented', 'new', 'incorrect', 'uses', 'embedded', 'systems', 'rocket', 'coding', 'formal', 'autocorrect', 'onboard', 'code', 'causing', 'european', 'involved', 'staff', 'include', 'architecture', 'libraries', 'architecturedesign', 'information', 'test', 'improvement', 'patterns', 'arise', '1980s', 'text', 'therac25', 'percent', 'act', 'executing', 'tools', 'overview', 'scandal', 'validation', 'obtain', 'objective', 'testing', 'identify', 'launch', 'detect', 'result', 'research', 'interfaces', 'viability', 'users', 'century', 'failure', 'examining', 'crash', 'unauthorized', 'department', 'quality', 'includes', 'crashed', 'completeness', 'operations', 'performance', 'security', 'documentation', 'prototyping', 'order', 'enginecontrol', 'end', 'ways', 'components', 'artifacts', 'design', 'perspective', 'prototype', 'operating', 'documenting', 'analyzing', 'roles', 'controlled', 'important', 'things', 'apis', 'business', 'development', 'risk', 'pilot', 'accompanies', 'typically', 'estimated', 'explains', 'broader', 'technology', 'written', 'production', 'environment', 'desired', 'conception', 'effects', 'maintaining', 'independent', 'reengineering', 'support', 'view', 'bypass', 'necessarily', 'source', 'flaw', 'algorithms', 'principles', 'formatting', 'obvious', 'post', 'different', 'planned', 'tests', 'operation', 'disasters', 'standards', 'bugs', 'justice', 'sense', 'extracting', 'commerces', 'types', 'pinpoint', 'analysis', 'structured', 'illustration', 'operates', 'minute', 'error', 'study', 'unintended', 'billion', 'statements', 'specifying', 'modification', 'designing', 'like', 'space', 'domestic', 'manifestation', 'based', 'interaction', 'qualities', 'program', 'appreciate', 'unexpected', 'involves', '–', 'demand', 'fault', 'historyin', 'deaths', 'technical', 'engineering', 'products', 'interpreting', 'product', 'allow', 'maintenance', 'miscarriage', '1994', 'behave', 'working', 'national', 'enduser', 'concluded', '5', 'early', 'people', 'feasibility', 'planning', 'causes', 'buggy'}\n",
            "set()\n"
          ]
        }
      ],
      "source": [
        "u_set ={''}\n",
        "run_set = {''}\n",
        "for i in mat:\n",
        "  for j in i:\n",
        "    u_set.add(j)\n",
        "if '' in u_set:\n",
        "  u_set.remove('')\n",
        "  run_set.remove('')\n",
        "print(u_set)\n",
        "print(run_set)"
      ]
    },
    {
      "cell_type": "code",
      "execution_count": 9,
      "metadata": {
        "colab": {
          "base_uri": "https://localhost:8080/",
          "height": 0
        },
        "id": "g8HYnxDeyNWK",
        "outputId": "03a0f32a-b67a-4733-f190-72a09e24b71f"
      },
      "outputs": [
        {
          "name": "stdout",
          "output_type": "stream",
          "text": [
            "0      Software development\n",
            "1    Software documentation\n",
            "2          Software testing\n",
            "3              Software bug\n",
            "Name: 0, dtype: object\n"
          ]
        }
      ],
      "source": [
        "topic_list = df.iloc[:,0]\n",
        "print(topic_list) "
      ]
    },
    {
      "cell_type": "code",
      "execution_count": 12,
      "metadata": {
        "colab": {
          "base_uri": "https://localhost:8080/",
          "height": 0
        },
        "id": "4QaxEZ8ByOYG",
        "outputId": "f8b0ad18-00e0-486e-cc1c-e9750fbae840"
      },
      "outputs": [
        {
          "name": "stdout",
          "output_type": "stream",
          "text": [
            "[[0.23626269400119781, 0.3261955976486206, 0.2683969736099243, 0.30876070261001587, 0.2364911288022995, 0.23584358394145966, 0.24977707862854004, 0.2418704330921173, 0.2738270163536072, 0.31487542390823364, 0.351391464471817, 0.25366050004959106, 0.30876070261001587, 0.2590811252593994, 0.2500162422657013, 0.28179216384887695, 0, 0.3288170099258423, 0, 0, 0.3085970878601074, 0.2883762717247009, 0, 0.29998087882995605, 0.3392972946166992, 0.252782940864563, 0.3022798001766205, 0.27965831756591797, 0.26996898651123047, 0.302758127450943, 0.2990221381187439, 0, 0.29526209831237793, 0.2518145442008972, 0, 0.32446420192718506, 0.2558487057685852, 0.21229098737239838, 0, 0, 0, 0, 0.2955211102962494, 0.23615474998950958, 0, 0.2501600980758667, 0.24474960565567017, 0.22692039608955383, 0.2330097258090973, 0.3621717691421509, 0.2558022737503052, 0.26816824078559875, 0, 0.2396945208311081], [0, 0.266998291015625, 0.3288170099258423, 0.2460743486881256, 0.242529034614563, 0.3022770285606384, 0, 0.2558487057685852, 0, 0, 0, 0.2959405183792114, 0, 0.3261955976486206, 0.2567567229270935, 0.29397255182266235, 0.2143891155719757, 0.2952003479003906, 0.25415903329849243, 0, 0.27287012338638306, 0, 0.2550376057624817, 0, 0.2988017797470093, 0.24702465534210205, 0, 0.2684663236141205, 0.30454787611961365, 0.2422325760126114, 0.27976763248443604, 0.28796058893203735, 0.2820957601070404, 0.3071199953556061, 0.31642699241638184, 0.2683969736099243, 0.2684662938117981, 0.27137014269828796, 0.2716251015663147, 0, 0.29533547163009644, 0, 0, 0.3221137225627899, 0.351391464471817, 0.2460675686597824, 0.418031245470047, 0.30399319529533386, 0, 0, 0.257792592048645, 0, 0, 0, 0.2685640752315521, 0.31774407625198364, 0.23601825535297394, 0.30824553966522217, 0.3267088532447815, 0, 0.2422325611114502, 0.3042123019695282, 0.25773847103118896, 0.24473416805267334, 0.24400754272937775, 0.28162240982055664, 0, 0.2793319523334503, 0.23846665024757385, 0.26357904076576233, 0, 0.29942551255226135], [0, 0, 0.2807489335536957, 0.3022770583629608, 0.32975101470947266, 0.24538478255271912, 0, 0.25071609020233154, 0.26922810077667236, 0.24621599912643433, 0, 0, 0.2669110894203186, 0.27698028087615967, 0.25978541374206543, 0.29616978764533997, 0, 0.2807964086532593, 0.30718469619750977, 0.31487545371055603, 0.29998087882995605, 0.3637124300003052, 0, 0.33891165256500244, 0, 0.32649481296539307, 0, 0.324495404958725, 0.2823124825954437, 0.22842422127723694, 0, 0, 0.2660767138004303, 0.3019486963748932, 0.2738270163536072, 0.23970940709114075, 0.26046842336654663, 0.26090875267982483, 0, 0, 0.26789355278015137, 0.27006059885025024, 0, 0.26963716745376587, 0.2984731197357178, 0.3145907521247864, 0.2930421233177185, 0.23060481250286102, 0.2691231369972229, 0, 0.24565982818603516, 0.4180312156677246, 0, 0, 0.24089962244033813, 0, 0.26317358016967773, 0.21828490495681763, 0.27287012338638306, 0, 0, 0.2955211102962494, 0.2990221381187439, 0, 0, 0.31231898069381714, 0, 0, 0.3637124300003052, 0.2777736186981201, 0.241844043135643, 0.2555115818977356, 0.2953304052352905, 0.31642696261405945, 0, 0, 0, 0.3042123317718506, 0, 0.21118496358394623, 0.26816827058792114, 0.28872328996658325, 0.2820957601070404, 0, 0.2609730362892151, 0.27500951290130615, 0.24280864000320435, 0, 0, 0, 0, 0.3016465902328491, 0.3160359561443329, 0, 0.332353413105011, 0.2921884059906006, 0.24064408242702484, 0.2527829706668854], [0, 0, 0.27318432927131653, 0.3447529077529907, 0.23480094969272614, 0, 0, 0.273525208234787, 0, 0.26996898651123047, 0.3016465902328491, 0.23903588950634003, 0.2685641050338745, 0, 0.25144094228744507, 0.23524267971515656, 0.2660767138004303, 0, 0.26353058218955994, 0.27043044567108154, 0.30235499143600464, 0.2598835825920105, 0.24705544114112854, 0.2866079807281494, 0.2567346692085266, 0, 0.2793319821357727, 0.2880100607872009, 0, 0.3074602782726288, 0.30091965198516846, 0.31402215361595154, 0.2479490339756012, 0.25595974922180176, 0.29541200399398804, 0, 0.27006059885025024, 0, 0, 0.30712002515792847, 0.2764033079147339, 0.2876025140285492, 0.26046842336654663, 0.245638906955719, 0, 0, 0.30318450927734375, 0.26541832089424133, 0, 0, 0, 0, 0.33389532566070557, 0.28162240982055664, 0.30718469619750977, 0, 0.25696641206741333, 0, 0.33288395404815674, 0, 0, 0.2791171073913574, 0.2930241525173187, 0, 0.21234655380249023, 0, 0.3221137523651123, 0.26628434658050537, 0, 0, 0.24238544702529907, 0, 0, 0.30824553966522217, 0.24250087141990662, 0, 0.2984731197357178, 0, 0.29616978764533997, 0.33891165256500244, 0, 0.27365225553512573, 0, 0, 0.26537081599235535, 0, 0, 0.22657626867294312, 0.28121694922447205, 0.353882372379303, 0, 0.27483126521110535, 0.31642669439315796, 0.23524266481399536, 0.2760973572731018, 0.2953304052352905, 0.25299954414367676, 0.24769507348537445, 0, 0, 0.26353055238723755, 0.2724002003669739, 0, 0, 0.32975101470947266, 0.31774407625198364, 0.2930421233177185, 0.27483126521110535, 0.2921884059906006, 0.26963716745376587, 0.31231895089149475, 0.2910369336605072, 0.26434165239334106, 0.27749648690223694, 0.3402879238128662, 0.2635692358016968, 0.3323534429073334, 0.25089403986930847, 0.33288395404815674, 0.34802207350730896, 0.2955326437950134, 0.30318450927734375, 0.24242134392261505, 0.30105793476104736, 0.2598835825920105, 0.27731743454933167, 0.20743747055530548, 0, 0.24797192215919495, 0.3621717691421509, 0, 0.2909330129623413, 0.28106147050857544, 0.2596356272697449, 0.2168920785188675, 0.353882372379303, 0.24564871191978455, 0.3447529673576355, 0.29397255182266235, 0.2866079807281494, 0.2803612947463989, 0, 0.31685376167297363, 0.26496922969818115, 0.32649481296539307, 0, 0, 0.34802207350730896, 0, 0, 0, 0.2235935926437378, 0.2364911437034607, 0.2885526418685913, 0.29302412271499634, 0.3070217967033386, 0.24584734439849854, 0.25886183977127075, 0.2530874013900757, 0.30127325654029846, 0.28221309185028076, 0, 0.30235499143600464, 0.27543020248413086, 0.24612179398536682, 0.324495404958725, 0.3074602782726288, 0.33389532566070557, 0.2959405183792114, 0.32446420192718506, 0.2550376057624817, 0.25526732206344604, 0.25186800956726074, 0.26922807097435, 0, 0, 0, 0.3160359263420105, 0.30497223138809204, 0.21914346516132355, 0.2891744375228882, 0.2918623685836792, 0.251336932182312, 0, 0.2563933730125427, 0.28096792101860046, 0.2667023539543152, 0.33929726481437683, 0.3022798001766205, 0]]\n"
          ]
        }
      ],
      "source": [
        "ans = []\n",
        "run_li = []\n",
        "dup_li = []\n",
        "for i in mat:\n",
        "  tempx = []\n",
        "  for j in i:\n",
        "    if j in run_li:\n",
        "      tempx.append(0)\n",
        "    else:\n",
        "      li = model.wv.most_similar(j)\n",
        "      tempx.append(li[0][1])\n",
        "      run_li.append(j)\n",
        "  ans.append(tempx)\n",
        "#print(ans)\n",
        "print(ans)"
      ]
    },
    {
      "cell_type": "code",
      "execution_count": 17,
      "metadata": {
        "id": "JnbtDBQIyP6-"
      },
      "outputs": [],
      "source": [
        "df1 = pd.DataFrame(ans)\n",
        "df1\n",
        "df1.to_excel('3tuple_reg_data.xlsx')\n",
        "!cp 3tuple_reg_data.xlsx \"drive/My Drive/\"\n"
      ]
    },
    {
      "cell_type": "code",
      "execution_count": 18,
      "metadata": {
        "id": "P6WmmIyJ0h3y"
      },
      "outputs": [],
      "source": [
        "import numpy as np\n",
        "df1 = df1.fillna(value=0)\n",
        "df1.head()\n",
        "df1.to_excel('3tuple_reg_data.xlsx')\n",
        "!cp 3tuple_reg_data.xlsx \"drive/My Drive/\""
      ]
    },
    {
      "cell_type": "code",
      "execution_count": 25,
      "metadata": {
        "colab": {
          "base_uri": "https://localhost:8080/",
          "height": 0
        },
        "id": "tsvxxShOPYjl",
        "outputId": "33b7592c-c909-4a88-b810-cf45ac43e5e9"
      },
      "outputs": [
        {
          "name": "stdout",
          "output_type": "stream",
          "text": [
            "190\n"
          ]
        }
      ],
      "source": [
        "#df1.columns = u_set\n",
        "sum = 0\n",
        "m =0\n",
        "for i in mat:\n",
        "  m=max(m,len(i))\n",
        "print(m)"
      ]
    },
    {
      "cell_type": "code",
      "execution_count": 30,
      "metadata": {
        "colab": {
          "base_uri": "https://localhost:8080/",
          "height": 0
        },
        "id": "LKXJUa5LQjDl",
        "outputId": "b86e3b31-9cf3-4b4d-b414-726d01883cdb"
      },
      "outputs": [
        {
          "name": "stderr",
          "output_type": "stream",
          "text": [
            "IOPub data rate exceeded.\n",
            "The notebook server will temporarily stop sending output\n",
            "to the client in order to avoid crashing it.\n",
            "To change this limit, set the config variable\n",
            "`--NotebookApp.iopub_data_rate_limit`.\n",
            "\n",
            "Current values:\n",
            "NotebookApp.iopub_data_rate_limit=1000000.0 (bytes/sec)\n",
            "NotebookApp.rate_limit_window=3.0 (secs)\n",
            "\n"
          ]
        }
      ],
      "source": [
        "matrix = []\n",
        "for i in mat:\n",
        "  tempx = []\n",
        "  for s in u_set:\n",
        "    if s in i:\n",
        "      ls = model.wv.most_similar(s)\n",
        "      tempx.append(ls[0][1])\n",
        "    else:\n",
        "      tempx.append(\"0\")\n",
        "    matrix.append(tempx)\n",
        "print(matrix)"
      ]
    },
    {
      "cell_type": "code",
      "execution_count": null,
      "metadata": {
        "id": "4cHYnGIERLm9"
      },
      "outputs": [],
      "source": []
    }
  ],
  "metadata": {
    "colab": {
      "provenance": []
    },
    "kernelspec": {
      "display_name": "Python 3",
      "name": "python3"
    },
    "language_info": {
      "name": "python"
    }
  },
  "nbformat": 4,
  "nbformat_minor": 0
}
